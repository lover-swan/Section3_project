{
 "cells": [
  {
   "cell_type": "code",
   "execution_count": 1,
   "id": "83fbb763",
   "metadata": {
    "scrolled": true
   },
   "outputs": [],
   "source": [
    "import spotipy\n",
    "from spotipy.oauth2 import SpotifyClientCredentials\n",
    "import csv"
   ]
  },
  {
   "cell_type": "code",
   "execution_count": 2,
   "id": "2dc67148",
   "metadata": {},
   "outputs": [],
   "source": [
    "client_credentials_manager = SpotifyClientCredentials(client_id='fedeef8a164044eeb72139e936c68bbb', client_secret='2a9cc8efa824484191a7b5ff5c453f3e')\n",
    "sp = spotipy.Spotify(client_credentials_manager=client_credentials_manager)"
   ]
  },
  {
   "cell_type": "code",
   "execution_count": 3,
   "id": "32581531",
   "metadata": {},
   "outputs": [],
   "source": [
    "genre = ['pop','rap', 'rock', 'latin', 'hip hop', 'trap', 'edm', 'r&b', 'electropop']"
   ]
  },
  {
   "cell_type": "code",
   "execution_count": 4,
   "id": "23631675",
   "metadata": {},
   "outputs": [],
   "source": [
    "data = []\n",
    "for k in genre:\n",
    "    for j in range(2011,2022):\n",
    "        for i in range(0,1000,50):\n",
    "            track_results = sp.search(q=f'genre:{k} AND year:{j}', type='track', limit=50,offset=i)\n",
    "            for i, t in enumerate(track_results['tracks']['items']):\n",
    "                data.append({'track_name': t['name'], 'track_id': t['id'], 'genre': k})"
   ]
  },
  {
   "cell_type": "code",
   "execution_count": 8,
   "id": "eed7f80b",
   "metadata": {
    "scrolled": true
   },
   "outputs": [
    {
     "data": {
      "text/plain": [
       "96219"
      ]
     },
     "execution_count": 8,
     "metadata": {},
     "output_type": "execute_result"
    }
   ],
   "source": [
    "len(data)"
   ]
  },
  {
   "cell_type": "code",
   "execution_count": 10,
   "id": "5c8fdb7f",
   "metadata": {},
   "outputs": [],
   "source": [
    "track_id=[]\n",
    "for i in data:\n",
    "    track_id.append(i['track_id'])"
   ]
  },
  {
   "cell_type": "code",
   "execution_count": 37,
   "id": "49865c3f",
   "metadata": {},
   "outputs": [],
   "source": [
    "track_features = []\n",
    "for i in range(0,96200,100):\n",
    "    af = sp.audio_features(tracks=track_id[i:i+100])\n",
    "    track_features.extend(af)"
   ]
  },
  {
   "cell_type": "code",
   "execution_count": 48,
   "id": "b0be0dc6",
   "metadata": {},
   "outputs": [],
   "source": [
    "with open('./music_name.csv', 'w', newline='', encoding='utf-8') as csvfile:\n",
    "    a = data[0].keys()\n",
    "    writer =  csv.DictWriter(csvfile, fieldnames=a)\n",
    "    writer.writeheader()\n",
    "    writer.writerows(data)\n",
    "\n",
    "with open('./music_features.csv', 'w', newline='', encoding='utf-8') as csvfile:\n",
    "    a = track_features[0].keys()\n",
    "    writer =  csv.DictWriter(csvfile, fieldnames=a)\n",
    "    writer.writeheader()\n",
    "    writer.writerows(track_features)"
   ]
  }
 ],
 "metadata": {
  "kernelspec": {
   "display_name": "Python 3 (ipykernel)",
   "language": "python",
   "name": "python3"
  },
  "language_info": {
   "codemirror_mode": {
    "name": "ipython",
    "version": 3
   },
   "file_extension": ".py",
   "mimetype": "text/x-python",
   "name": "python",
   "nbconvert_exporter": "python",
   "pygments_lexer": "ipython3",
   "version": "3.9.12"
  }
 },
 "nbformat": 4,
 "nbformat_minor": 5
}
